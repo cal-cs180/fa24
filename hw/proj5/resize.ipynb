{
 "cells": [
  {
   "cell_type": "code",
   "execution_count": 1,
   "metadata": {},
   "outputs": [],
   "source": [
    "from PIL import Image\n",
    "\n",
    "# Load the image\n",
    "image_path = \"assets/1.7.1_house_sketch.png\"\n",
    "image = Image.open(image_path)\n",
    "\n",
    "# Display the image\n",
    "image.show()\n"
   ]
  },
  {
   "cell_type": "code",
   "execution_count": null,
   "metadata": {},
   "outputs": [],
   "source": [
    "# Resize the image to 64x64\n",
    "resized_image = image.resize((64, 64))\n",
    "\n",
    "# Save the resized image\n",
    "resized_image_path = \"assets/1.7.1_house_sketch_resized.png\"\n",
    "resized_image.save(resized_image_path)\n",
    "\n",
    "# Display the resized image\n",
    "resized_image.show()\n"
   ]
  }
 ],
 "metadata": {
  "kernelspec": {
   "display_name": "180",
   "language": "python",
   "name": "python3"
  },
  "language_info": {
   "codemirror_mode": {
    "name": "ipython",
    "version": 3
   },
   "file_extension": ".py",
   "mimetype": "text/x-python",
   "name": "python",
   "nbconvert_exporter": "python",
   "pygments_lexer": "ipython3",
   "version": "3.8.17"
  }
 },
 "nbformat": 4,
 "nbformat_minor": 2
}
